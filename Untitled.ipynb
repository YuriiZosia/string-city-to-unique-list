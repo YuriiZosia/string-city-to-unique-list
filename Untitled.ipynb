{
 "cells": [
  {
   "cell_type": "code",
   "id": "474eedd1-15ba-4723-9c7d-f30b556f919f",
   "metadata": {},
   "source": [
    "nums = [0, 1, 2, 3, 4, 5, 6]\n",
    "print(nums[1::2])"
   ],
   "outputs": [],
   "execution_count": null
  },
  {
   "cell_type": "code",
   "id": "e4cd5176-0b76-4945-82cc-fe6be3524e52",
   "metadata": {},
   "source": [
    "class User:\n",
    "    def __init__(self, name: str, age: int):\n",
    "        self.name = name\n",
    "        self.age = age\n"
   ],
   "outputs": [],
   "execution_count": null
  },
  {
   "cell_type": "code",
   "id": "7b5aaa9f-4e7a-4ad1-9f91-b3d83bffa555",
   "metadata": {},
   "source": [
    "user1 = User(\"Tom\", 25)\n",
    "print(user1.name)\n",
    "print(user1.age)"
   ],
   "outputs": [],
   "execution_count": null
  },
  {
   "cell_type": "code",
   "id": "c5b05d76-7f4e-4a52-9bd9-94ab13f00662",
   "metadata": {},
   "source": [
    "nums = [1, 2, 3, 4, 5, 6]\n",
    "print(nums[2:])\n",
    "print(nums[:2])\n",
    "nums[2:] + nums[:2]"
   ],
   "outputs": [],
   "execution_count": null
  },
  {
   "metadata": {},
   "cell_type": "code",
   "source": "",
   "id": "ea79d92c07ec8458",
   "outputs": [],
   "execution_count": null
  }
 ],
 "metadata": {
  "kernelspec": {
   "display_name": "Python 3 (ipykernel)",
   "language": "python",
   "name": "python3"
  },
  "language_info": {
   "codemirror_mode": {
    "name": "ipython",
    "version": 3
   },
   "file_extension": ".py",
   "mimetype": "text/x-python",
   "name": "python",
   "nbconvert_exporter": "python",
   "pygments_lexer": "ipython3",
   "version": "3.12.0"
  }
 },
 "nbformat": 4,
 "nbformat_minor": 5
}
